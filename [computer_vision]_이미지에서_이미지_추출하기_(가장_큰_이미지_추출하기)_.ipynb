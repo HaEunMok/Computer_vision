{
  "nbformat": 4,
  "nbformat_minor": 0,
  "metadata": {
    "colab": {
      "provenance": [],
      "mount_file_id": "1IkoG2RBiuq1rSIXSQY7SmYZ4wNxCBRhs",
      "authorship_tag": "ABX9TyNL2msZQNS3X+XuGQnCw/is",
      "include_colab_link": true
    },
    "kernelspec": {
      "name": "python3",
      "display_name": "Python 3"
    },
    "language_info": {
      "name": "python"
    }
  },
  "cells": [
    {
      "cell_type": "markdown",
      "metadata": {
        "id": "view-in-github",
        "colab_type": "text"
      },
      "source": [
        "<a href=\"https://colab.research.google.com/github/HaEunMok/Computer_vision/blob/main/%5Bcomputer_vision%5D_%EC%9D%B4%EB%AF%B8%EC%A7%80%EC%97%90%EC%84%9C_%EC%9D%B4%EB%AF%B8%EC%A7%80_%EC%B6%94%EC%B6%9C%ED%95%98%EA%B8%B0_(%EA%B0%80%EC%9E%A5_%ED%81%B0_%EC%9D%B4%EB%AF%B8%EC%A7%80_%EC%B6%94%EC%B6%9C%ED%95%98%EA%B8%B0)_.ipynb\" target=\"_parent\"><img src=\"https://colab.research.google.com/assets/colab-badge.svg\" alt=\"Open In Colab\"/></a>"
      ]
    },
    {
      "cell_type": "markdown",
      "source": [
        "# 이미지에서 이미지 추출 (가장 큰 이미지 추출하기)\n",
        "\n",
        "https://opencv-python.readthedocs.io/en/latest/doc/01.imageStart/imageStart.html\n"
      ],
      "metadata": {
        "id": "5r0vOjCz8Lmj"
      }
    },
    {
      "cell_type": "markdown",
      "source": [
        "# 이미지 읽기"
      ],
      "metadata": {
        "id": "WYty4W4K8nbm"
      }
    },
    {
      "cell_type": "code",
      "execution_count": null,
      "metadata": {
        "colab": {
          "base_uri": "https://localhost:8080/"
        },
        "id": "1Vn3DGyxm8rW",
        "outputId": "f6f0bc80-b83b-4a03-8eff-3ac8bf0a0997"
      },
      "outputs": [
        {
          "output_type": "stream",
          "name": "stdout",
          "text": [
            "Collecting pytesseract\n",
            "  Downloading pytesseract-0.3.10-py3-none-any.whl (14 kB)\n",
            "Requirement already satisfied: packaging>=21.3 in /usr/local/lib/python3.10/dist-packages (from pytesseract) (23.2)\n",
            "Requirement already satisfied: Pillow>=8.0.0 in /usr/local/lib/python3.10/dist-packages (from pytesseract) (9.4.0)\n",
            "Installing collected packages: pytesseract\n",
            "Successfully installed pytesseract-0.3.10\n"
          ]
        }
      ],
      "source": [
        "import cv2\n",
        "\n",
        "# 이미지 읽기\n",
        "image_path ='.png'  # 이미지 파일 경로\n",
        "image = cv2.imread(image_path)"
      ]
    },
    {
      "cell_type": "markdown",
      "source": [
        "# 이미지 그레이스케일로 변환하기"
      ],
      "metadata": {
        "id": "Tx52sBzR8sk1"
      }
    },
    {
      "cell_type": "code",
      "source": [
        "# 이미지를 그레이스케일로 변환\n",
        "gray = cv2.cvtColor(image, cv2.COLOR_BGR2GRAY)"
      ],
      "metadata": {
        "id": "rqjS-QHf88Ro"
      },
      "execution_count": null,
      "outputs": []
    },
    {
      "cell_type": "markdown",
      "source": [
        "# 윤곽선 검출하기"
      ],
      "metadata": {
        "id": "ebZC1f_38_g7"
      }
    },
    {
      "cell_type": "code",
      "source": [
        "# 이미지에서 테두리를 찾아 경계선 검출\n",
        "edges = cv2.Canny(gray, 100, 200)\n",
        "\n",
        "# 경계선으로부터 윤곽선 검출\n",
        "contours, _ = cv2.findContours(edges, cv2.RETR_EXTERNAL, cv2.CHAIN_APPROX_SIMPLE)"
      ],
      "metadata": {
        "id": "_ScCUetF8HOO"
      },
      "execution_count": null,
      "outputs": []
    },
    {
      "cell_type": "markdown",
      "source": [
        "# 윤곽선에 대해 사각형 그리기 (가장 큰 윤곽선을 추출하는 코드)\n",
        "- max를 사용하여 가장 큰 윤곽선만 추출하였음"
      ],
      "metadata": {
        "id": "RlRadMUq9EH0"
      }
    },
    {
      "cell_type": "code",
      "source": [
        "# 가장 큰 영역의 윤곽선을 찾아 해당 영역을 사각형으로 표시하여 표를 추출\n",
        "largest_contour = max(contours, key=cv2.contourArea)\n",
        "x, y, w, h = cv2.boundingRect(largest_contour)"
      ],
      "metadata": {
        "id": "zcj7dURb8E8k"
      },
      "execution_count": null,
      "outputs": []
    },
    {
      "cell_type": "markdown",
      "source": [
        "# 추출한 이미지 저장"
      ],
      "metadata": {
        "id": "q-baUDXe9H8S"
      }
    },
    {
      "cell_type": "code",
      "source": [
        "# 추출된 표 이미지를 표시하거나 저장\n",
        "extracted_table = image[y:y+h, x:x+w]  # 이미지에서 표 부분을 추출\n",
        "\n",
        "# 추출된 표 이미지를 파일로 저장\n",
        "cv2.imwrite('extracted_table.png', extracted_table)"
      ],
      "metadata": {
        "id": "NwRTiLKr8DX-"
      },
      "execution_count": null,
      "outputs": []
    }
  ]
}